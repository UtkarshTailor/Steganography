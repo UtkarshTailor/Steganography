{
 "cells": [
  {
   "cell_type": "code",
   "execution_count": 1,
   "metadata": {},
   "outputs": [
    {
     "name": "stdout",
     "output_type": "stream",
     "text": [
      "Message embedded and stego image saved!\n"
     ]
    }
   ],
   "source": [
    "import cv2\n",
    "import numpy as np\n",
    "import scipy.fftpack\n",
    "\n",
    "def apply_dct(image):\n",
    "    \"\"\"Apply DCT to an 8x8 block\"\"\"\n",
    "    return scipy.fftpack.dct(scipy.fftpack.dct(image, axis=0, norm='ortho'), axis=1, norm='ortho')\n",
    "\n",
    "def apply_idct(dct_block):\n",
    "    \"\"\"Apply Inverse DCT to an 8x8 block\"\"\"\n",
    "    return scipy.fftpack.idct(scipy.fftpack.idct(dct_block, axis=0, norm='ortho'), axis=1, norm='ortho')\n",
    "\n",
    "def embed_message(image_path, secret_message):\n",
    "    \"\"\"Embed secret message into the image using DCT steganography\"\"\"\n",
    "    # Load the grayscale image\n",
    "    image = cv2.imread(image_path, cv2.IMREAD_GRAYSCALE)\n",
    "    h, w = image.shape\n",
    "    \n",
    "    # Convert message to binary\n",
    "    binary_msg = ''.join(format(ord(i), '08b') for i in secret_message) + '1111111111111110'  # End marker\n",
    "    msg_index = 0\n",
    "    \n",
    "    # Divide image into 8x8 blocks\n",
    "    stego_image = np.zeros_like(image, dtype=np.float32)\n",
    "    \n",
    "    for i in range(0, h, 8):\n",
    "        for j in range(0, w, 8):\n",
    "            block = image[i:i+8, j:j+8]\n",
    "            if block.shape != (8, 8):\n",
    "                continue\n",
    "            \n",
    "            dct_block = apply_dct(block.astype(np.float32))\n",
    "            \n",
    "            # Embed binary message in DCT coefficients\n",
    "            if msg_index < len(binary_msg):\n",
    "                coeff_x, coeff_y = 4, 4  # Choose a middle frequency coefficient\n",
    "                dct_block[coeff_x, coeff_y] = int(binary_msg[msg_index])\n",
    "                msg_index += 1\n",
    "            \n",
    "            stego_image[i:i+8, j:j+8] = apply_idct(dct_block)\n",
    "    \n",
    "    # Normalize and convert back to uint8\n",
    "    stego_image = np.clip(stego_image, 0, 255).astype(np.uint8)\n",
    "    cv2.imwrite(\"images/stego_image.png\", stego_image)\n",
    "    print(\"Message embedded and stego image saved!\")\n",
    "\n",
    "# Example Usage\n",
    "embed_message(\"images/treeBW.png\", \"Hello World\")\n"
   ]
  },
  {
   "cell_type": "code",
   "execution_count": 7,
   "metadata": {},
   "outputs": [
    {
     "name": "stdout",
     "output_type": "stream",
     "text": [
      "Message embedded and stego image saved!\n"
     ]
    }
   ],
   "source": [
    "import cv2\n",
    "import numpy as np\n",
    "import scipy.fftpack\n",
    "\n",
    "def apply_dct(image):\n",
    "    \"\"\"Apply DCT to an 8x8 block\"\"\"\n",
    "    return scipy.fftpack.dct(scipy.fftpack.dct(image, axis=0, norm='ortho'), axis=1, norm='ortho')\n",
    "\n",
    "def apply_idct(dct_block):\n",
    "    \"\"\"Apply Inverse DCT to an 8x8 block\"\"\"\n",
    "    return scipy.fftpack.idct(scipy.fftpack.idct(dct_block, axis=0, norm='ortho'), axis=1, norm='ortho')\n",
    "\n",
    "def embed_message(image_path, secret_message):\n",
    "    \"\"\"Embed secret message into the image using DCT steganography\"\"\"\n",
    "    # Load the grayscale image\n",
    "    image = cv2.imread(image_path, cv2.IMREAD_GRAYSCALE)\n",
    "    h, w = image.shape\n",
    "    \n",
    "    # Convert message to binary\n",
    "    binary_msg = ''.join(format(ord(i), '08b') for i in secret_message) + '1111111111111110'  # End marker\n",
    "    msg_index = 0\n",
    "    \n",
    "    # Divide image into 8x8 blocks\n",
    "    stego_image = np.zeros_like(image, dtype=np.float32)\n",
    "    \n",
    "    for i in range(0, h, 8):\n",
    "        for j in range(0, w, 8):\n",
    "            block = image[i:i+8, j:j+8]\n",
    "            if block.shape != (8, 8):\n",
    "                continue\n",
    "            \n",
    "            dct_block = apply_dct(block.astype(np.float32))\n",
    "            \n",
    "            # Embed binary message in LSB of DCT coefficient (4,4)\n",
    "            if msg_index < len(binary_msg):\n",
    "                coeff_x, coeff_y = 4, 4\n",
    "                coeff_value = dct_block[coeff_x, coeff_y]\n",
    "                dct_block[coeff_x, coeff_y] = coeff_value - (coeff_value % 2) + int(binary_msg[msg_index])\n",
    "                msg_index += 1\n",
    "            \n",
    "            stego_image[i:i+8, j:j+8] = apply_idct(dct_block)\n",
    "    \n",
    "    # Normalize and convert back to uint8\n",
    "    stego_image = np.clip(stego_image, 0, 255).astype(np.uint8)\n",
    "    cv2.imwrite(\"images/stego_image.png\", stego_image)\n",
    "    print(\"Message embedded and stego image saved!\")\n",
    "\n",
    "\n",
    "# Example Usage\n",
    "embed_message(\"images/treeBW.png\", \"Hello World\")\n"
   ]
  },
  {
   "cell_type": "code",
   "execution_count": 8,
   "metadata": {},
   "outputs": [
    {
     "name": "stdout",
     "output_type": "stream",
     "text": [
      "\fà\u0018\u0006\u0003¤\fð$\u0011.\u0010\u0010\u0000Â2DâM¢üh E¡ªÔ¸à\u00015\u0007\u0000 K2Ä\u0007\u0000áN\u0004¨ÌÞ©aEpæBß\u0006\u000eRÀ\u0010\u0000\t¥\u0000\n",
      "«|Qì\u000b\u0003å9\u000bá¶)3`\u0000(B\u0001\u0000(\u0002>¢\u0005þÿ\u0000u\u0011þv\u0011¦@\u0019\u0002\u00007\u0004)X8\u0000\u0000\u0000\u0002@\u0006\u0019\u0007Sa\u00122öDe6ó\fEÏX8\u0000\f\u0003\u0001\u000b\u0004'´3XÚ` \u0010\u0001\u001e\\Y\f,Õ´ðD\u0000\u0000\u0000%`\u0000\u0005\u0014N$Å<lTÒF\u0004À®\u0012F \u00155M@=eC\n",
      "@&\tÃqø\u0000SÅ\u0004h ;.\u0004¦Aö\u0000\u00010\u0007ËYø\u0000\u0004\tÑ¬a8UZ\u0019)'$D?|6 ÚS@\u0007-\\@\u0004\u00035]\u001cá\u001bºc¨Â\u0000ì\u0000À\u0001p\u0000\u0000@z)\u00000\u0000FxJ\u0001\u0001ã\u000eAäº¨fu0\u0003\u0004`\u0000\u0001f°@@\ftÍ\u0019¡·ñÎ¦#p\f2ú£Á;\u0010\u0018\u00000\u00060Æ \u000b Ò>;É\u001cMÀ¡\u0003âAã@\u001d\u0018\u0000\u00018µ @\u0005r 4\u0001ÛÔ¾ioÍá\u0003\u0018\u0004Ø¦Dè\u0002B\u001b\u0004\u0004\u0001qe@>6\u0015ÓÄä¤p¦a\u0003\u000b\u0003Ä5íeEl\u0000 \u0003\f\u0000\u0002OÒ\u0013\u001a\u0002èJÌH\u0018T+\"¬)$ü¶u \u0005À¨\u0000BÀ\u0006R5D8\u0001MÓJEÈ¯\u000b×\u0010\u0010Ö³z\u0004\u0000\u0001ÐØ\n",
      "@C\u0000­Ë\u0004Á\u0019`\u0016\u0012¨¼æÝ\u001dM\u0018\f\u0004n\u0002\u0004À\u0002\u00001ðh\u0002;q`é\u0002¢#¯§Ç\u0016ÄÉ\u0000\u0018$aC\u0000\u0002\u0000 \u0000 5A (\u000f/\\à\u001b(Òé\u0016hâ¸U\u0010x\u0010\u0004!Ô@\n",
      "\f\u0000\u0000\u00035\u00165u \f\u000fX¨Ò ÑÄ¾îI@ R\u0001E\u0000\u0005È³ÍÁ11\u0001\u000bó\u0010eK\u0013¢@7\u0015#\u0004\u000e\u0004\u001b\u0000á¨éÒ\tüÏ~3\n",
      "AÈ\u0003ØHl\u0004\t°\u0000ä\u00010²\u0000|´»Î@ªñÛ*\u0006á4\u0005\u001c\u000b°ÅÝ\u0018\u0000\u0004¿#\u0005@\u00008ÄN8/zÊº\u0005^«i|#A}ú¼Êh\u000fÈÓ\u0003\u0000\u0000\u000bIF\u0013{ñÀ KA!-u!\u0013ªgúWÚ©é«\u0000\u0000\u0000\u0004\u0004]\u0011\u000b\t[­@p¢lÔý\u000bDb+÷\u0018 §\u0000\u0003\u0000\u0000 \u0002PÜF«\u0010z\u0001\f1z\u000b{\u0010p\u000eé@\u0011þ\u0000\u0001\u0004 @\u0000\n",
      "6Å\u0019e\u0004*\u001aÐæfL¬O\"÷\u000eÈL\n",
      "A8\u0001\u0007g\u0001Ü\u00006îÙªÀv\u0012wÙ»HZ\u000eø\u0000&\u0001 \u0000\f@B@¸Ð\u0010\u0000\u0017\u0000@r\u0018Û Cb\u0019\u0003p\u000eG\u0000\u0000\u0000\f\u0000\u0000,\u0000\u001cm\u001dG4Qýè\u001b\u001c\u0002ð=\u0005\u0000\tQ\u0004\u0000\u001c \u0000\u0000\u0010\u0001SÄÈ!p\u0013qÂ¥\u000b\u0018\u001a\fA-ÒL\u0000\u0000\u0002\u0000\u0000À\u0005\"H\u001d\n",
      "\u000b¬«G9ÂÊ\fa¡° B²H\u0002\u0000\u0000Ð \u0000\u0000\u001f!ê´Ü\u0019æ´ô\u0004r\u0016¹\u0000Ø ,\u0010Ò\u0000 @F0\u0011ÿ\t1\u0011ß©ÈÕó(¼ï\u0002\u0004\u0003]Ï\u0016 \u0000\tñ@\u0000 FË¸9¤ö\u000bQ9Ì6)(\u0000ep%$X\u0002\u0001üö°\u0010\u0000\u0004\u0003F\u0000öDh¿q\u0004[\"ÁÁ\u0004 \u0010\f\u0002\n",
      "KåÚÀ\u0000sd\u000bb¼\u0014Ç¸ä\u0000·{~C\u0001\fFdi\u0016B0\u0002@ù\u0007KV8\u0004\u0007ß\u0013µÄ¯{J\u0012ä\u0000\u0002\u0010@¸\u0006°P\u0010\u0002ÙÌ\u001aÈ'¨O\u0003p\tÞa©6@\u0003\u0000\u0001@ \u0007z\u0000\u0000¿¨YÓ\"«\fû@\u0017l\u0018?®C\u000e\u0016\u0002`\f\u0006\u0002ö£$_\u0002\u000bÈ.]fDúÐ\u00010ã\u0006 Ä\u0012KÀ\u0000H>tr$a)yI\u0011]ö8#'N<¾\fßoàÀ\u0010`(\u001a\u001apÌ\u0000Z\u000799Y¦\u0006Ä\u0011\u00052¾96®§\u0000B\u0000\u0000Y\u0010\u0000qÍ&¼\u0016«¥ ÏE\n",
      "B°rï\u0001à\u001e\u0000\u0004\u0004\u0001i\u0004`\u0000\u0004L\u000b(\u001a;Ó­D8¸\u0016tAÈ!\u0001 \t `=¶ \u0000#ûÁGs\u0010ã÷} à\u0000HJ\u0002\u0000\u0012 !2Éu\u0000\u0010\u0000Ê\n",
      "@¯Ä\u0000\u0000 \u0007\u0001\u0001@\u0017h®\u0001H\u0000Ô#ùs\u001e\u0006:'f]3\u0001Å\u0010\u0010@\u001f\u0002ù\u0000\u0013@?Í\u0005\u0016½ÛM\u0003\u0003\u0018¡¶ÞXjÑ\u00009P*FÔ¹Äú4K&\u0000\u0004\u0000\u001a\u0000\u0000ÀÛ\u0002@\u0001\u0006êñ>TF:K$fA¢#W\u0000\u0004\u0002\u0006\u0006\u0006\u0000#ÀN\u0000\f\u0003¦T+aÑ6\u0018\u000f¸K(\u0002\u0002 \u0000(\u0010\u0017 Úh\u0000\u0000\u0001#ÀR9\u0004±1bé2T[9\u0000\u0000\u0013Fx==©\u0001\f\u0000\u00029±}\u0003\u0002\u0011\u001b£\n",
      "\u0000\f\u0013\u000eqðSlkìË ¬¡\fA\u0010\u0000\u0000\u0004 L5ò\u0002\u0003\u0000_¿\u0017­(\u000e2Rê7>  @\u0000\u0000\u0000\u0004X¾ë\u0005\u0000\u0014ánôn\u000bpv©hý6}=\u0010\u0000\u0006\u0000\t\u0000)Ý´&\u0000\u0005>­ê§È\u0018·«\u001fz*Ä\u0012@ \u0001$\u0000\u0000\u0000\u0001\u0002«<¸\u0000\u0002!Bü)ÉåyÓÝA^¨\u0011\u0002\u0004\u0000\u0000\u0002\u0000m2(-t^BRbÿ|·ÊÓ°ÁÃQQR\n",
      "e\u0018Z|`ã¬iïh\u0000\u0004\u001c_\u0005R\u001b¾Ð¯(*Ã`\u0018\u0010Á \u0000\u0000\u0001\u0004\u0000\u0012Pö°²\u0000Bð\u0000\n",
      "Xü`b\u0000\u0000P\u0011\u0000\u0004\u0004\u0010ú\u0006\u001d\u0019û71ù¾\n",
      "ÑÀ\u0000C÷Ô\u0000\u0001@\u0000\u001c\u0000ô>ÑÁt¸,Eà8Ï*\u000e\u0007\u001c\u0006\u0012Z0\u0000j\u0000@\u0000 \u0000\u0000\u001fÆñâÀ«R\u000b´ôTlO\u001aíð\u0004Ò\u000f@ \u0001\u0000\u0010\u0000\u0000$\u0004æJ¶@\u001fL§9]ùð(&0a\u0001H\u0000\n",
      "\u0000\u0000\u0000&ÑäÅ/Â?h4\u0003YÊâ\u001erIíÖ\u0000 \u0000\u0004\u0000\u0000\u0001\u001dC,;;\n",
      "20ÈÅÇ8ðs3!A¨T#\u0000\u0001\u0000\u0000\u0003\u0000\u0000 iq\u0007³ë\u0015U«Op¤¤2\u000e2Þ\u0014\u0000à$$\u0000\u0004\u0017Gh\u0014îä6)1ð~ÀAe\u0004dð6ð\u0000À\u0000\u0010\u0000\u0000\u0000\u0000â`}´\fY)\u0018*@PÒb^\u0003køÃ\u000fh 0\u0004\u0001\u0002\n",
      "¦Sp\u0000@\u0010\u0000\u0000aú¦\u001bØWv5òBWFhÇiÊ*\"á\u0000\u0014\u0002\u0002  Ò9ë\u0015Úÿ\u0001ï²A/ê§\u0002\u0000\f`\u0018Q\u000fpH¹Þï½±¦Ðâ0\u0000\u0000I±\u0006¯\u0011@\u0000\u0000 \u0000\u0014D;ïq©ò+±Ù/Eg¹¤ßØ KrÔY \u0000\u0002\u0000\u0000\u0000\u0010\u0010±øa´W]§-ë(\u0014«Ã\u0003°\u0012ø=& B\u0000\u0000\u0000\u0000ÍLNõZ© \f\u001dèT¤È.\u00007À\u0006\n",
      "\u001e<}ÁÞ\u0000\u0000 \u0000\u0000\u0000\u001cJÉ[°5\u001b\u0005\u0006wj+Ê9\u0000ñ\u0012ß¢Î1\u0010\u0002\u0000\u0000\u0000\u0003Ó2C\tV\u0011f7u\u0010#)H\u0000Ç\u0000À0ho¨\u0000\u0000\u00000\u0000\u0000 ©°\u000eUz*\u001fÕÜ@l{\u000e&Ì\u0018\u0000\u0010\u0002&P\u0012Î§\u0001Îu©x?\u0010µ\u0010\u0013\\CC°þÄ\u0000\u0000\u0000\u0000\u0004Që2 %§@\u0013¸Pl^\u0002\u0019À¶\u0003b\u0014\u001eóß\\\u0000\u0000\u0001\t\u0000\u0005 \n",
      "@\n",
      "PPF¸\u0005¤\\dª\u0004¹\u0007\u0019\u001cMº\u0000\u0000\u0000\u0001\u0000ÂD\u0004P\u0001VbË2¾¡>kØ\u0004\u001d¬ð@\u0000\u0000\u0000\u0000\u0000\u0001%\u0000`}\u0000ø'\"½O\u0005\u0010íEX\u0004\u0000\u0000\u0000\u0010\u0000\u0000\u0000\u0010\u0000\u0010*J.3Øà%\"¦\u0003,\u0005\u001e4'\u0000\u0000\u0000\u0000\u0000\u0000\u0002\u0000\u0003\u001eÇ'¢`!?áMø¦¹YÆ\u0002\u0014E¸Ð®\u0000\u0000\u0000\u0000\u0000\u0000 \u0004-JX?°\u0010\u0002ï¡À\u0013´»²\u0007çxCµ=\u0014\u0000\u0000\u0000\u0000\u0000\u0010fXH¨G¾c® \u0000åa\u001biþ\u0018`pgH\u0000\u0000\u0000\u0000\u0000\u0007Që \fIr)C\n",
      "5Mu¥Á\u001661üì­\u0010Z½\u0000\u0000\u0000\u0000\u0000\u0000K#åÐ\u0010¿\f!Ùñ´ÉhÙÐcñ\u0000\u0000\u0000\u0000\u0000Í?0\u0018Á¡\\-Õ5å³ZSµÂä¶\\p\u0002\u0000\u0000\u0000\u00002J\u001f:ÎÒ¢>ß\u0019Ü½6Ý>ui\u001d§\fßj+0\u0007 \u0000\u0000\u0000jå$¥¦?½{>ß¬PSÚ5+¡ø\u0011¸\u0000\u0000\u0000ü,û+ÚÃ\u0014¦\u0015t\u0013÷ËÒ¾\u0014-(º­\u0002°\u0000\u0000\u0000\u0001¦Í>¢Ê\u000e®¹u0ôà3ÂÚ\n",
      "E¡ð\u001eá\tô\u0000\u0000\u0000*\u000f\n",
      "¼x\u0019.ZAY\u001e*à4\u001f\u0000A¼\u0000\u0000åÅ\u000eP´]EåÍê\u0016\u000bº\f.\tx0\u00187ÝÊÆ\u0000#ê\u0000\u0000\u0000<\u0017,\u001fÉB!õ\u0004¶ÊÉµ8 \u0005½ÍB\u0000N\u0000\u0000\u0000!¢\u0011â\u000eÍè!²hó&\u0006´Ë\u0000Cê¶`\u0001À(\u0000\u0000\u0000²÷\u0002\tI°1ByÚÚÂQúàÕ:\u0000$>­Må\u0006\u0000V\u000e\u0000\u0000G¿'L`pÊöâÐÐ\u0019þÜd`\u0000Ì©@T\u0019$\u0003\u0010\u0000\u0000£_ÞÀ%!Ñ¤4¤|¢ß52¸\u0004a+@oÃ\u0000%\u0019\u0000\u0000µäÆabpô=æð÷qÇâ\n",
      "ûD 6A$2\u0000A}\u0000\u0000\u0000#:<Ýß\fovVrQ?Äóe\u001c½a\u0010\u0010Áb\u0000\"\f\u0000\u0000\u0000À\u001a7óf*\u0001N{\u00025É 3\u000b¼lòèÜ£Ð.7\u0007\u0000\u0000\u0000ÏV}{ç&âZo¹r$©a\u0016yE\u001f\u0000\u0019«\u0000\u0004\u0000jp|\u001a¦áõ£©UÎæ\u0018É TòrR\u0000\u0010@\u0014\u0000G\u0014\n",
      "w e^¹Ù ñýóð­\u0018MíZQåfz\u0001¢ôZ2hC\u0018ÈR\u001dR,k\"\u00192© '\u0013ÆUDúØ\u001d=y\u0016Ó\fmGnÐ¡P\u0016\u0010UjKñ²\u0015íî*ýBï$\u0004óý ¿PE*\u0017MH,ËÉè^HË÷\u000f²üâ²2tÖð\u0006&U\u0000Sm{T½ãrEKÌH\u0005X]3#câØ`ALÑåX$/1J}¨É2\u001a\u0002ÃÅ\u0012Ý«¯«ÀÂg\u0001\u0000\u001d1¤Ò\u0000I¯Ð±E=\u0003 !Íl#Ü¡\u0007Ýi 9u\u001b~ÿ?@´\u0010më\u0012\u0003ð\u001b\u0002aM£þ\u000fú$r\u0000\u001eAð&&A\u0019B²j\u0012\u0010\u001d\n",
      "Y°£1u\u0016%\u00056N\u0001g\u001b´v\u000f(~ \u0000\u0007ÄP_Öh\u000f#j`\u0019âe°.dªÕ*WÌ4Zb¼À\u0000d\u0006\u0018Õ3í\u0000å,óH\u0006\u0012RÆDè\u0005\u000bp¡\u0011©À\u0000Om$»H÷àPIY\u001c\u0018OZ|É\u001a*+U!z|(\u00000iÃ¦Oý\u0006à)wCð\u0000 OÒ¼dq\u001aµ×ôÁ¼V\u001bP\u0000\u0002?\u0010\fãÍ@½÷5Z8év\n",
      "|å\u001e»¸°fØ\u0007V\u0018\u0000A>Ë\u00134N@\u0018ôúÔ-\u0003\u0007*Ëø*oZPé°\u0000\u001aÂU\u0001çE\u001f:¦\u0000y2ñ «\u0006\u0015ÍT{AÐ¢Ør\u0006Ò\u0000)½¢K;o\u0000\u000eÓ¿\"¹\u0015P±¬ l\u0000­F¢Û\t\u0013[À4\t~c\u0003Ñ\u00007a´\u0000àx9\u0018 ¼~p[\u0019ÛwøP9Ù~$#«Ømh\u0010j6s\"Kuú\u0010(\u0000\u001d Î2\u0006ãë¿àû \u0018QáÖá\n",
      "Êcea0À§BZ\f#Ó\n",
      "Pº\u0010ÂVç\u0000ÁÌô|\u001dáÉPÄ\u0006 \u0000$;7,þ÷Ä\u0005º\u000e\u000b ¾2a_ãÈdl°Æ\u001b\u0003`<É®ËM]ó\u001c\u0000¨.ô\u0013!m ÀC)S\u0004<\u0005HÐßZOµ( 1h¼ ÊB# 0ðÍ\u001d÷\u001a÷\u000fXÖß§âÉ~\\ø·\n",
      "\u0015en-2À]§J\u0003¥åU(g\u001eÕ7LÕýQ?@¦W¬ýÕî¢Ò² Bè\u0016{\u0000<ô¼ã+Hé\u000bª\u001eÑR»\u0019X\u001d\u001f¬DAhüG¢\u0000!`2óPið%(ØsÎÌV¶\u0005\f\u0012&©GÛ\u0019Vº\u001d\u0000\n",
      "0²¤\u0013\n",
      "\u000bbPü¼\u001b>\u0012ë\u0018gÀ\u0001Û'/\u0014\u0007p:éVú\"?'¬?Z<\\.`ùï¥ê%zÄ\u001fíqc?«á\u0003\"Ã»l«^Õ¢Ú.¤RèæiK¸4\u0007ËÁ\u0000-zâ4ðvª\u0016ç\n"
     ]
    },
    {
     "data": {
      "text/plain": [
       "'w\\x088ÒSÁ!ÛSZ¤\\x85D\\x03®\\r\\x0cà\\x18\\x06\\x03¤\\x0cð$\\x11.\\x10\\x94\\x10\\x00Â2Dâ\\x8dM¢üh \\x98E¡\\x94ª\\x93Ô¸à\\x015\\x8b\\x07\\x00 K2Ä\\x07\\x00\\x80áN\\x04¨\\x84ÌÞ©aEpæ\\x85Bß\\x8c\\x9c\\x06\\x0eR\\x88À\\x10\\x00\\t\\x8e¥\\x86\\x00\\x94\\n`ªXÖ\\x9c\\xad´\\x01\\x05\\\\ <ý\\x18\\x9a\\x90\"\\x82\\x9b9\\xa0 \\x00\\x00Ñ\\x00Á\\x00\\x10\\r\\x82«\\x8f|Qì\\x0b\\x03\\x85å\\x809\\x0b\\x80á¶)\\x7f\\x923\\x90`\\x00(B\\x01\\x00(\\x92\\x02>¢\\x05þÿ\\x00u\\x11\\x8eþv\\x11¦@\\x19\\x02\\x007\\x04)X8\\x00\\x00\\x88\\x00\\x02\\x86@\\x06\\x19\\x07Sa\\x122\\x85\\x8döDe6ê\\x08ó\\x0cEÏXØ\\x088\\x00\\x0c\\x03\\x98\\x01\\x0b\\x80\\x04\\'´\\x803XÚ` \\x84\\x10\\x01\\x1e\\\\\\x82Y\\x0c,Õ´ðD\\x00\\x00\\x00%`\\x00\\x05\\x14N$Å<lTÒF\\x04À®\\x12F\\xa0\\x155M@=e\\x91C\\n\\x00\\x024\\x00\\x08\\x01\\x00\\x82ä°¡z,\\x90À¶©ä\\x0f\\x80X-Å\\x802^h°\\x02\\x02\\x80\\x00x\\x00\\x08D\\x05L\\x92\\x92>9\\x9eÈl\\x1eÖm\\x86\\x03Å\\x96\\x80#\\x9fN¾W\\x00\\x00Ð\\x03hA\\x89V\\x10\\x00\\x18\\x90é\\x94¨r@Ù\\x81\\x88\"\\x04÷\\x89\\x8d½Â\\x8eÆH\\x00\\x00\\x98\\x89  ÀB\\x04\\x01*\\x02\\x1f¥o¦À|\\x9c\\x19x\\x18à º\\x03ºòWP\\x00\\x00\\x08*\\x80@@\\x81\\x99\\x0ctÍ\\x19¡·ñ\\x85Î¦#p\\x0c6\\x082ú£Á;\\x10\\x18\\x000\\x060\\x80Æ \\x81\\x9f\\x95\\x0b Ò>\\x91\\x8d;É\\x1cMÀ¡\\x03âAã@\\x1d\\x18\\x00\\x018µ\\xa0@\\x05\\x98r\\xa0\\x814\\x01ÛÔ¾ioÍá\\x03\\x18\\x04\\x83Ø¦D\\x82è\\x10\\x08\\x02B\\x1b\\x04\\x04\\x01\\x81qe@>6\\x15ÓÄä¤p¦a\\x03\\x0b\\x03Ä5íeEl\\x00 \\x82\\x03\\x0c\\x00\\x02\\x8cOÒ\\x13\\x1a\\x02èJÌH\\x85\\x18T+\"¬)\\x96$ü¶u \\x05À¨\\x00BÀ\\x06R\\x805D\\x92\\x8a\\x948\\x01MÓJEÈ\\x92¯\\x0b×\\x10\\x10Ö³z\\x04\\x82\\x00\\x01ÐØ\\r\\x8c\\x85@&\\tÃ\\x85qø\\x00SÅ\\x04h\\xa0\\x82;.\\x93\\x04¦Aö\\x00\\x010\\x07Ë@\\x08Yø\\x00\\x04\\tÑ¬a8UZ\\x19\\x8b)\\'$D?|\\x8b6 Ú\\x80S@\\x07\\x8a\\x95\\x88-\\\\@\\x04\\x81\\x035]\\x96\\x1cá\\x1bºc¨Ô\\x08Â\\x00\\x90ì\\x83\\x00À\\x01p\\x00\\x00@z)\\x000\\x00FxJ\\x01\\x01ã\\x0eAäº\\x88\\x80\\x92¨f\\x97u0\\x03\\x80\\x04`\\x00\\x01f°\\nA\\x00\\x80$$EX³ëK\\x1e|äm\\x08aÏ eÊ\\x14\\x84\\x00|À\\x03\\x02\\x99ÅE\\x80\\x88\\x00bµªõ«¦Ö¢\\'\\x1a%\\\\\\x06Ué^<~>\\x82¬\\x80\\x00\\x00&\\x81\\x02\\x00 \\x00\\xa05A\\x90\\xa0(\\x0f/\\\\à\\x1b(Òé\\x16hâ¸\\x8aU\\x10x\\x10\\x04!Ô@\\r@C\\x00\\x90\\xadË\\x04\\x98Á\\x19\\x89`\\x16\\x12¨¼æÝ\\x1db\\x08\\x9aM\\x90\\x18\\x0c\\x04n\\x02\\x04À\\x02\\x001ðh\\x02;q`é\\x02¢\\x8a#¯\\x8c§Ç\\x16\\x88ÄÉ\\x00\\x18$aC\\x00\\n\\x0c\\x00\\x00\\x035\\x83\\x165u\\xa0\\x8d\\x0c\\x0fX¨Ò\\xa0ÑÄ\\x96\\x80¾î\\x83I@\\xa0R\\x01E\\x90\\x90\\x00\\x05È\\x9d³ÍÁ11\\x01\\x0bó\\x10e\\x9dK\\x13¢@7\\x15\\x80#\\x04\\x88\\x9e\\x0e\\x04\\x82\\x1b\\x80\\x00á¨éÒ\\tü\\x8fÏ~3\\nAÈ\\x9d\\x03\\x84Ø\\x8fHl\\x04\\t\\x8b°\\x00ä\\x010²\\x00|´»Î@ªR\\x08ñÛ*\\x06á4\\x05\\x1c\\x0b°ÅÝ\\x18\\x00\\x04¿#\\x05@\\x00\\x838ÄN8/zÊº\\x05^«i|#A}\\x97ú¼Ê\\x88h\\x0fÈÓ\\x03\\x00\\x80\\x80\\x00\\x0bIF\\x13{ñ\\x8cÀ KA!-u!\\x13ªgúW\\x9fÚ©é«\\x00\\x80\\x00\\x00\\x04\\x04]\\x11\\x0b\\t[\\xad@p\\x95¢lÔ\\x7fý\\x0bD\\x97b+÷\\x18\\x82\\xa0§\\x00\\x03\\x00\\x00 \\x02P\\x8dÜ\\x80F«\\x10z\\x01\\x0c1z\\x84\\x0b{\\x10p\\x0e\\x80é@\\x11\\x83þ\\x00\\x80\\x01\\x04 @\\x00\\n6Å\\t\\x08\\x19e\\x04*\\x1aÐæfL¬O\"÷\\x0eÈL\\nA8\\x01\\x07\\x80g\\x01\\x92\\x8e\\x97Ü\\x80\\x006î\\x80ÙªÀv\\x12wÙ»HZ\\x0eø\\x00&\\x01\\xa0\\x00\\x0c@B\\x84\\x80@¸Ð\\x10\\x00\\x7f\\x17\\x00@r\\x18\\x93\\x9fÛ\\xa0Cb\\x19\\x03\\x89p\\x0eG\\x84\\x00\\x00\\x00\\x0c\\x00\\x00\\x80,\\x00$\\x08\\x1c\\x97\\x81m\\x1dG4Qý\\x84è\\x1b\\x1c\\x86\\x02ð=\\x05\\x88\\x00\\tQ\\x04\\x00\\x1c \\x00\\x00\\x10\\x01SÄÈ\\x80!p\\x13q\\x85Â¥\\x0b\\x18\\x1a\\x0cA-ÒL\\x00\\x00\\x02@\\x08\\x00\\x00À\\x05\"H\\x1d\\n\\x0b?\\x08¬\\x89«G9ÂÊ\\x97\\x0ca¡° B²H\\x02\\x00\\x00Ð \\x00\\x80\\x00\\x80\\x1f!ê´Ü\\x19æ´ô\\x04r\\x16\\x86¹\\x80\\x00Ø ,\\x10Ò\\x80\\x00\\x80 @F0\\x11ÿ\\t1\\x11ß©ÈÕó(¼ï\\x02\\x04\\x96\\x80\\x03]Ï\\x16 \\x00\\tñ@\\x00 \\xa0\\x08\\x1b\\x08FË¸9¤ö\\x0bQ9Ì6)\\x90(\\x00ep%$X\\x02\\x01üö°\\x10\\x00\\x04\\x03F\\x00öDh¿\\x83q\\x04[\\x82\"Á\\x8cÁ\\x04\\xa0\\x10\\x0c\\x8d\\x98\\x02\\nKåÚÀ\\x00\\x82\\x8esd\\x0bb¼\\x14Ç¸ä\\x00·{~C\\x01\\x0cFdi\\x16B\\x840\\x02\\x84@ù\\x89\\x07KV8\\x04\\x07ß\\x13µÄ¯{J\\x12ä\\x00\\x02\\x10@¸\\x06°P\\x10\\x82\\x02ÙÌ\\x1aÈ\\'¨O\\x80\\x03p\\tÞa©\\x90\\x85\\x086@\\x03\\x00\\x01@\\xa0\\x07z\\x94\\x91\\x00\\x00¿¨YÓ\"«\\x0cû@\\x17l\\x18?\\x8e®C\\x0e\\x16\\x02`\\x0c\\x06\\x02\\x82ö£$_\\x02\\x80\\x0bÈ.]fD\\x99úÐ\\x010ã\\x06\\x85\\x89\\xa0Ä\\x12\\x93KÀ\\x00H\\x88>tr$a)y\\x9aI\\x11]ö8#\\x94\\x8b\\'N<¾\\x9f\\x0cßoà\\x86À\\x10`\\x80(\\x1a\\x1apÌ\\x00Z\\x07\\x9499\\x8fY¦\\x06Ä\\x11\\x052¾96\\x82\\x98®§\\x00B\\x00\\x00Y\\x8d\\x88\\x10\\x80\\x00qÍ&¼\\x16«¥ \\x80ÏE\\nB°rï\\x01à\\x80\\x1e\\x00\\x04\\x04\\x01\\x82i\\x8a\\x04`\\x00\\x04L\\x0b(\\x96\\x1a;\\x8bÓ\\xadD8¸\\x90\\x16tAÈ!\\x01 \\t \\x9b`=\\x84¶ \\x00\\x82#\\x8aûÁGs\\x10ã÷\\x9b}\\x88\\x80\\xa0à\\x00HJ\\x02\\x00\\x12 !2Éu\\x00\\x10\\x00Ê\\npuö\\x89:\\x87\\x93§-4\\x01ãæ\\x00@(\\x11\\x0f\\x02\\x00 à\\x14\\x0e\\x82\\x00\\x10\\x00\\x80Ñ\\x84@r.¯A9D!¶Ô\\xade\\x0e@\\x04\\x10\\x04l\\x03b\\x02\\x14×\\x03@\\x18\\x00\\x06Ú\\x076P*FÔ¹Äú4\\x80K&\\x87\\x00\\x04\\x00\\x84\\x85\\x1a\\x00\\x00ÀÛ\\x02@\\x01\\x06ê\\x9dñ\\x91>TF:K$fA¢#W\\x87\\x00\\x04\\x02\\x06\\x06\\x06\\x00#À\\x95N\\x00\\x0c\\x03¦\\x81\\x8bT\\x91+aÑ6\\x84\\x18\\x0f¸K(\\x82\\x02\\x02 \\x00(\\x84\\x10\\x17 Úh\\x00\\x00\\x01#ÀR9\\x04±1bé2T\\x8f\\x81[\\x899 \\x08\\x00\\x00\\x13Fx=\\x88=©\\x01\\x0c\\x00\\x02\\x839±}\\x03\\x02\\x11\\x1b£\\r\\x89@¯Ä\\x00\\x82\\x00\\xa0\\x07\\x01\\x01@\\x17\\x80h®\\x01H\\x00\\x87Ô#ùs\\x1e\\x06:\\'f]3\\x01ÅI\\x08\\x10\\x10@\\x1f\\x02ù\\x00\\x13@?Í\\x05\\x00\\x08\\x80\\x16½Û}\\x08M\\x03\\x03\\x18¡¶ÞXjÑ\\x009\\x94\\n\\x00\\x10\\x00& ©\\x9b\\x01\\x98\\x08\\x80Òè¥Ý\\x07A´\"f¢\\x12¢b4Ã¹\\x80 \\x10\\x10\\x00\\x02\\x00\\x00©×\\x12 \\r\\x00\\x0c\\x88\\x13\\x0eqðSlkì\\x98Ë\\xa0¬¡\\x0c\\x90A\\x10\\x00\\x00\\x04 L5ò\\x02\\x9c\\x03\\x00\\x17\\x08_¿\\x17\\xad(\\x0e2Rê\\x907>  \\x80 \\x08@\\x00\\x00\\x00\\x04X¾ë\\x8c\\x05\\x00\\x14\\x9dánôn\\x0bpv©hý6}\\x80=\\x10\\x00\\x06\\x00\\x80\\x80\\t\\x00\\x91)Ý´&\\x00\\x05>\\xadê§È\\x18\\x7f·«\\x1fz*Ä\\x8d\\x12@ \\x01$\\x00\\x00\\x00\\x01\\x02«\\x93<¸\\x00\\x02!Bü)Éåy\\x9cÓÝA\\x9a^¨\\x11\\x02\\x04\\x00\\x88\\x00\\x02\\x00m2(-\\x80t@\\x08^\\x8dBRbÿ|·ÊÓ°ÁÃQQR\\n\\x00\\x00\\x00\\x00\\x00\\x80ã¬iïh\\x00\\x04\\x1c_\\x05R\\x1b¾Ð¯(*Ã`\\x18\\x10Á \\x80\\x00\\x00\\x01\\x04\\x00\\x12Pö°\\x92²\\x00Bð%\\x08\\x00\\re\\x18Z|`\\nXü`\\x80b\\x00\\x00P\\x11\\x00\\x04\\x04\\x10ú\\x06\\x1dp\\x08\\x19û71ù\\x81\\x80¾\\nÑÀ\\x00C÷Ô\\x80\\x92\\x00\\x01@\\x00\\x90\\x1c\\x00ô>ÑÁt\\x80¸,E\\x97à8Ï*\\x0e\\x07\\x1c\\x06\\x12Z0\\x00j\\x00@\\x00\\x80 \\x00\\x00\\x8b\\x1fÆñâÀ«R\\x0b´ôTlO\\x1aíð\\x04Ò\\x0f\\x80@ \\x01\\x02\\x08\\x00\\x10\\x00\\x00$\\x04æJ¶@\\x1fL\\x90§\\x879\\x85]\\x85ùð(\\x83&0a\\x01H\\x00\\n\\x00\\x00\\x00&Ñä\\x83Å/Â?h4\\x03YÊ\\x7f\\x96â\\x1er\\x93IíÖ\\x00 \\x00\\x04\\x00\\x00\\x02\\x08\\x01\\x1dC,;;\\n2\\x930ÈÅÇ8ðs3!A¨T#\\x00\\x01\\x00\\x00\\x89\\x03\\x00\\x80\\x00\\xa0iq\\x07³ë\\x98\\x15U«Op¤¤\\x94\\x802\\x0e2Þ\\x14\\x00à$$\\x00 \\x08\\x04\\x17Gh\\x14îä6)1\\x95\\x81ð~ÀAe\\x04\\x92dð6ð\\x00À\\x00\\x10\\x00\\x00\\x00\\x00\\x81â`}´\\x0cY)\\x18\\x90*@PÒb^\\x03kø\\x81Ã\\x0fh\\xa00\\x00\\x08\\x04\\x01\\x02\\nä\\x9bÈ=0\\x04«KÇv\\x9a\\x02-ÙQ\\x1f§\\x06%¶oÃ\\x80\\x00\\x00\\x00\\x00\\x10\\x00\\x06º«xÊâr(à@\\x02\\x9d1FG¤\\x04b \\x8f\\x95\\x0bIÀ \"\\x00\\x00\\x02\\x00\\x0c`\\x18Q\\x0fpH¹Þï½±¦Ðâ0\\x90\\x00\\x00I±\\x06¯\\x84\\x11@\\x00\\x00 \\x00\\x14D;ïq©ò+±Ù/Eg¹¤ßØ\\x98\\xa0KrÔY\\xa0\\x00\\x02\\x00\\x00\\x00\\x10\\x10±øa´W]§-\\x82ë(\\x14«Ã\\x82\\x03°\\x80\\x12ø=&\\xa0\\x94B\\x00\\x80\\x00\\x00\\x00ÍL\\x95NõZ© \\x0c\\x1dèT¤È.\\x007À\\x06\\r¦S\\x80p\\x00@\\x10\\x00\\x00\\x80aú¦\\x1b\\x90ØWv5òBWFh\\x86\\x89ÇiÊ*\"\\x86á\\x98\\x00\\x14\\x02\\x02 \\xa0Ò\\x90\\x909ë\\x85\\x15Úÿ\\x01ï²A/ê\\x9c§\\n\\x1e<}Á\\x90Þ\\x00\\x00 \\x00\\x00\\x00\\x1cJÉ\\x9d[°5\\x1b\\x05\\x06wj+Ê9\\x00ñ\\x99\\x12ß¢Î1\\x10\\x02\\x00\\x00\\x86\\x00\\x03Ó2C\\tV\\x11f7u\\x10\\x92#)H\\x00Ç\\x00À0h\\x94o\\x90¨\\x00\\x00\\x000\\x00\\x00 ©°\\x0e\\x83\\x82\\x98\\x96Uz*\\x1fÕÜ\\x98\\x95\\x8e@l{\\x0e\\x83&Ì\\x18\\x00\\x10\\x80\\x02\\x00\\x08&P\\x12Î§\\x01Îu©x?\\x10µ\\x10\\x13\\\\CC°\\x9aþ\\x97Ä\\x00\\x00\\x00\\x00\\x04Që2\\xa0%§@\\x13¸Pl^\\x02\\x19À¶\\x03b\\x84\\x14\\x1eóß\\\\\\x9c\\x00\\x00\\x01\\t\\x00\\x05 \\n@\\nPPF¸\\x05¤\\\\dª\\x04¹\\x07\\x19\\x90\\x1cM\\x8e\\x85º\\x80\\x00\\x00\\x00\\x80\\x01\\x00Â\\x80\\x94D\\x84\\x04P\\x01VbË2¾¡>\\x8bkØ\\x04\\x1d\\x8b¬ð@\\x00\\x00\\x00\\x00\\x00\\x00\\x08\\x01\\x80%\\x00`}\\x00ø\\'\"\\x9c½\\x85O\\x05\\x10\\x96íE\\x9bX\\x94\\x04\\x00\\x00\\x00\\x10\\x00\\x00\\x00\\x10\\x81\\x00\\x10*\\x83J.3\\x95Ø\\x86à%\"¦\\x03,\\x05\\x1e4\\'\\x8c\\x00\\x00\\x00\\x00\\x00\\x00\\x02\\x00\\x03\\x1eÇ\\'¢`!?áMø¦¹YÆ\\x02\\x14E¸Ð®\\x91\\x00\\x00\\x00\\x00\\x00\\x00 \\x04-J\\x9bX?°\\x10\\x02ï¡À\\x13´»²\\x07\\x88çxCµ=\\x14\\x00\\x00\\x00\\x00\\x00\\x8a\\x10f\\x8aXH¨G¾c® \\x00åa\\x1b\\x9diþ\\x94\\x18`pgH\\x00\\x00\\x00\\x00\\x00\\x07Që \\x0cIr)C\\n\\x97\\x84î7\\x11!ß÷ªäE\\x8bÏã°\\x00\\x00\\x00\\x00\\x00\\x07\\x04\\x07\\x00\\x13\\x05\\r5Mu¥Á\\x1661üì\\x99\\xad\\x10Z\\x84\\x85½\\x00\\x00\\x00\\x00\\x00\\x00K#åÐ\\x80\\x10¿\\x89\\x0c\\x89!Ùñ\\x82\\x95´É\\x7f\\x8chÙÐcñ\\x80\\x00\\x00\\x00\\x00\\x00Í\\x93?0\\x18Á¡\\\\-Õ5\\x81\\x85å³ZSµÂä\\x84¶\\x90\\\\p\\x02\\x00\\x00\\x00\\x002J\\x1f:ÎÒ¢>ß\\x19Ü½6Ý>ui\\x1d§\\x0cßj\\x8c+0\\x07\\xa0\\x00\\x00\\x00\\x82jå$¥¦?½\\x91{\\x8b\\x8b>ß\\x89¬\\x9aP\\x8fSÚ5+¡ø\\x11¸\\x00\\x00\\x00ü,û+ÚÃ\\x14¦\\x7f\\x15t\\x13÷ËÒ¾\\x14\\x95\\x8d-(\\x8cº\\xad\\x9a\\x02°\\x00\\x00\\x00\\x01¦Í>\\x8b\\x81¢Ê\\x0e®¹u0ôà\\x813ÂÚ\\nÒg-\\x07á\\tô\\x00\\x00\\x00\\x95*\\x0f\\rE¡ð\\x1e\\n¼x\\x8d\\x19.ZAY\\x1e*à\\x954\\x1f\\x00A¼\\x80\\x80\\x00\\x00åÅ\\x0eP´]EåÍ\\x9cê\\x16\\x0bº\\x0c.\\tx0\\x187ÝÊÆ\\x00#ê\\x00\\x00\\x00<\\x17\\x9b,\\x1fÉ\\x96B!õ\\x04¶ÊÉ\\x81µ8 \\x05½\\x83Í\\x93B\\x00N\\x90\\x00\\x00\\x00!¢\\x11â\\x0eÍè!²hó&\\x94\\x88\\x06´Ë\\x8c\\x00Cê¶\\x8e`\\x01À(\\x00\\x00\\x00²÷\\x02\\tI°1\\x83ByÚÚÂQúàÕ:\\x00$>\\xadMå\\x06\\x00V\\x0e\\x00\\x00\\x93\\x90G¿\\'L`pÊöâÐÐ\\x19þÜd`\\x00Ì©@T\\x19$\\x03\\x84\\x10\\x00\\x00£_\\x85ÞÀ%!Ñ¤4¤|¢ß5\\x842¸\\x04a+@oÃ\\x00%\\x19\\x80\\x00\\x00µäÆabpô=æð÷qÇ\\x91â\\nû\\x80D\\xa06A$2\\x00A}\\x00\\x00\\x00#:<Ýß\\x0covVrQ?Äóe\\x1c½\\x8ca\\x10\\x10\\x82Áb\\x00\"\\x0c\\x00\\x00\\x00À\\x1a7óf*\\x01N{\\x025É 3\\x0b¼\\x91lòèÜ£Ð.\\x807\\x07\\x00\\x00\\x00ÏV}\\x98{ç&â\\x84Zo\\x91¹\\x8ar$\\x89©a\\x16yE\\x1f\\x8a\\x00\\x19«\\x00\\x04\\x00\\x92jp|\\x1a¦áõ£©UÎ\\x83æ\\x8f\\x18É\\xa0TòrR\\x8a\\x84\\x00\\x10\\x86@\\x14\\x00G\\x9e\\x14\\n\\x966\\x01TSÃÚ-·è\\x14@èz\\x1bl\\x16á\\x13\\x8c\\x90\\x00aà)\\x001ó\\x83ë3j\\x12=³æcé-;C&·\\x91Ëî\\x12¡}<À\\x08\\x0c\\x80\\x08\\x00I\\x13T«ý$\\x16\\x10\\x94#\\x1e\\x11\\x80T<#\\x0c\\x03x÷Õ\\x01X\\x95´ ¨@.\\x00\\x85\\x84l;à\\x8cÓ\\x12\\x020\\x17ÆJ[\\x1aã\\x94D¹Ó(\"ð8\\x85o\\x1a\\x08ý\\x00x¸\\x0bz\\x92Cm\\x90Á\\x88$Ñ¡§àq3â\\x85\\x89\\x94ÅH\\x95\\x8e\\x8c\\x88v\\xad\\x00\\x8bS¢\\xa0K¸[\\x14p\\x88k\\x83ç\\x98g\\x07\\x123D´âÀ2\\töp,!³\\x02°ä\\x83Ø¸\\xadvN\\x11°\\r\\x82iÌ^$Mº\\x03^q\\x02%+\"¡\\x06E¡\\x00²&Á\\x9fPë:&Ç\\x9elÃ©\\x91%/¦Bÿ3p\\x05\\x80\\x15ç\\x81\\x0f\\x13v\\x00\\x8bT$\\x82\\x80\\x10ü\\x02\\'~u¾\\x95a \\x08 ]Æ\\x98>\\x08\\x15ãÜ\\x83\\x04\\x15Qx=çÑ\\x9dABe\\x0f\\x16\\x86«²¢Û\\xad\\x00\\\\\\rw\\xa0e^¹Ù ñ\\x94ý\\x88\\x80óð\\xad\\x92\\x18\\x91MíZQåfz\\x01¢ôZ2õ\\x08hC\\x18È8\\x08R\\x1dR,k\"\\x192© \\'\\x13\\x87ÆUDúØ\\x9e\\x1d=y\\x90\\x16Ó\\x0cmGnÐ¡P\\x16\\x10UjKñ²\\x15íî*ýB\\x9aï$\\x04óý\\xa0\\x88¿PE\\x8f\\x8c*\\x17MH\\x87,ËÉè^HË÷\\x80\\x0f²üâ²2tÖð\\x92\\x06&U\\x8a\\x00Sm{T½ã\\x90rEKÌH\\x05X]3#câØ`ALÑ\\x90åX$\\x81/1J}¨É2\\x1a\\x02ÃÅ\\x12\\x90Ý«¯«ÀÂg\\x01\\x00\\x1d\\x88\\x93\\x941¤Ò\\x00\\x82I\\x80¯Ð±E\\x86=\\x03\\xa0!Íl#Ü¡\\x07Ýi\\x8e\\xa09u\\x1b~ÿ\\x9e?@´\\x10\\x8cmë\\x12\\x03ð\\x1b\\x02aM£\\x9aþ\\x0fú$r\\x00\\x1eAð&&A\\x19\\x8aB\\x82²\\x89j\\x87\\x12\\x88\\x10\\x1d\\nmÃ)ºµT±åQl\\x18\\x02B]î\\x18\\x84ÚY\\'Á?\\x88Íâ:°(\\x8f\\x06\\x1e\\x12A\\x90\\'Ð\\x9bÆ°\\x05d4\\x02Oñ\\rY°£1\\x81\\x8du\\x16%\\x056N\\x91\\x01g\\x1b´v\\x0f(\\x8c~\\xa0\\x88\\x89\\x90\\x00\\x07ÄP_Öh\\x0f\\x85#j`\\x19âe°.d\\x83ªÕ*WÌ4Z\\x81b¼À\\x00d\\x06\\x18Õ3\\x81í\\x00å,\\x90óH\\x06\\x94\\x12R\\x9fÆD\\x8eè\\x05\\x0bp¡\\x11©À\\x00Om\\x8b$»H÷àPIY\\x1c\\x18OZ\\x9c|É\\x1a*d\\x08+U\\x9f!z|(\\x000iÃ¦Oý\\x06à)wCð\\x00 OÒ¼dq\\x1aµ×ôÁ\\x89¼V\\x1bP\\x00\\x02?\\x10\\x0cã\\x9eÍ@½÷5Z8év\\nV\\x97^\\x85j\\x98JÎå×F\\x9e°\\x00\\x10\\x7f\\x04\\x8e\\x1eÖO\\x89\\x08z¸\\x92\\x1e\\x01Í\\x11\"Ñö¸V8®¨w\"\\x11%@\\x00\\x12\\xa0t\\x99oþï\\x82\\x07¾Ä<ÎD{¢\\x9a\\tîç}u\\x8eì¾ì8\\x07\\x08\\x00\\x00\\x14¶BÞ\\x16É\\x80\\x0f©Ð¥¤È\\x91@T@n·@s\\x96RM\\x0eT\\x07\\x08\\x00\\x01ÜT\\x12P\\x11\\x93 \\xa0/ù\\x8eç°ÀY&f5\\x03\\x1eÀ3\\x9e¢¸\\x14\\x0cÌ\\x00\\x0e\"Yr2ïF\\x80\\x18Ge7XÐl%ê\\r|\\x9eå\\x1e»¸°fØ\\x07V\\x18\\x00A>Ë\\x134N@\\x18ôúÔ-\\x03\\x9e\\x07*Ëø*o\\x97ZPé°\\x00\\x1aÂU\\x01çE\\x9d\\x1f:¦\\x00\\x84\\x8dy2ñ «\\x06\\x15Í\\x8cT{AÐ\\x80¢Ør\\x06\\x81Ò\\x00)½¢K;o\\x00\\x0e\\x88Ó¿\"¹\\x15P±¬ l\\x00\\xadF¢\\x85Û\\t\\x13\\x9e[À4\\t~c\\x03Ñ\\x007a´\\x00àx9\\x18\\x97 ¼~p[\\x19ÛwøP9Ù~\\x82$#«Ømh\\x10j6s\"K\\x92uú\\x10(\\x00\\x1d\\xa0Î2\\x06ãë¿à\\x80û \\x18Q\\x9fáÖá\\nÊce\\x93a0À§BZ\\x0c#\\x8dÓ\\nX%#\\x93Áòå\\x98\\x91\\x1e\\x80\\x94°\\x00\\x05±1\\x08\\x96\\x00\\x8c\\x8a\\x94D1\\x13\\x8a\\xad\\r\"(áà×ç\\x04dà\\x9cTS\\x08\\x00¢\\x01½`\\x85\\xa0\\x81PPí\\x04Ð\\x05ëE¤!ù½Þ\\x90\\xady/ôéaÿ \\x00 àÌ¨ÐD;ýÂ\\x19\\x12Tà4y3\\x90¯#\\x9e1û\\x97\\x05Ø\\x02\\x88\\x94\\x86\\x00\\x0b~Ë\\x0e0\\x1fõZPï\\x7fM\\x9c\\x92\\x91;±Ñ7\\x8e0gÝßra\\x972â\\x00\\x10+ë\\x18ÁTp\\x92%\\x99Ñ|þ\\x01k\\x8aåm\\x8d¶\\x1f\\x88\\rPº\\x10ÂVç\\x00Á\\x9cÌ\\x96ô|\\x1dáÉPÄ\\x06\\x8c\\xa0\\x00$\\x8b;7,þ÷\\x8fÄ\\x05\\x9eº\\x0e\\x0b \\x82¾2a_\\x80ã\\x80Èdl°Æ\\x1b\\x03`<É\\x8a\\x90®ËM\\x88]ó\\x1c\\x85\\x90\\x00¨.ô\\x13!m\\x8a\\xa0ÀC\\x9f)\\x9cS\\x04<\\x05H\\x87ÐßZOµ(\\xa01h\\x89\\x80¼\\xa0\\x92ÊB#\\xa00ðÍ\\x1d÷\\x1a÷P\\x08\\x0fXÖß§â\\x8cÉ~\\x8c\\\\ø·\\n\\x8cÉ\\x0e|9\\x14B\\xa0t¯\\x0b±\\x7fÔ11¦\\x94M\\x9eY\\x16ÝÃ5\\x8c\\x0c\\x9e\\x07\\x84\\x9b.:Ò!\\x92\\x85ÀÈz\\x18e\\x92E¡#G~\\r\\x15en-2À]§J\\x1e\\x08\\x03¥åU(g\\x1eÕ7LÕýQ?@¦W¬ýÕ\\x97î¢Ò² Bè2\\x08\\x16{\\x00<ô\\x8b¼ã+Hé\\x0bª\\x1eÑR»\\x19X\\x1d\\x1f¬DAh\\x96üG¢\\x00!`2ó\\x9aPið%(ØsÎÌV¶\\x05\\x0c\\x12&©\\x85GÛ\\x19Vº\\x1d\\x82\\x00\\n\\x900²\\x91¤\\x13\\n*K¾3É2¿\\x14\\x08Æ>\\x8c\\x134þ§¥vL\\x02H\\x81Ú\\x12/ \\x01!\\x85`dõ\\x8ej¿qÃb\\x80\\t·\\x08\\x91×\\x91\\x8aæE\\x99ÅÝÈ1M«>D£Åå\\xadB\\x1aÌí\\x10È\\x0c\\x88\\x9aþ¾\\x83\\x98¤ïæ \\x88.Ë\\x04\\\\n1Ú-zâ4ð\\x81v\\x9aª\\x16ç\\r\\x0bb\\x8aPü¼\\x1b>\\x12ë\\x18g\\x89À\\x01Û\\'\\x9a/\\x14\\x07p:éVú\"\\x80?\\'¬?Z<\\\\.`ùï¥ê%zÄ\\x1fí\\x91qc?«á\\x85\\x03\"Ã»l«\\x94^Õ¢Ú.\\x8a\\x84¤Rèæ\\x96i\\x94K\\x84¸4\\x07ËÁ\\x00'"
      ]
     },
     "execution_count": 8,
     "metadata": {},
     "output_type": "execute_result"
    }
   ],
   "source": [
    "def apply_dct(image):\n",
    "    \"\"\"Apply DCT to an 8x8 block\"\"\"\n",
    "    return scipy.fftpack.dct(scipy.fftpack.dct(image, axis=0, norm='ortho'), axis=1, norm='ortho')\n",
    "\n",
    "def extract_message(image_path):\n",
    "    \"\"\"Extract secret message from the stego image using DCT steganography\"\"\"\n",
    "    # Load the grayscale image\n",
    "    image = cv2.imread(image_path, cv2.IMREAD_GRAYSCALE)\n",
    "    \n",
    "    if image is None:\n",
    "        raise FileNotFoundError(f\"Error: Unable to load image '{image_path}'. Check if the file exists and is a valid image.\")\n",
    "    \n",
    "    h, w = image.shape\n",
    "    binary_msg = \"\"\n",
    "\n",
    "    for i in range(0, h, 8):\n",
    "        for j in range(0, w, 8):\n",
    "            block = image[i:i+8, j:j+8]\n",
    "            if block.shape != (8, 8):\n",
    "                continue\n",
    "            \n",
    "            dct_block = apply_dct(block.astype(np.float32))\n",
    "            coeff_x, coeff_y = 4, 4\n",
    "            binary_msg += str(int(dct_block[coeff_x, coeff_y]) % 2)  # Extract LSB\n",
    "\n",
    "            # Check for end marker \"1111111111111110\"\n",
    "            if binary_msg.endswith(\"1111111111111110\"):\n",
    "                break\n",
    "\n",
    "    # Convert binary to text\n",
    "    binary_msg = binary_msg[:-16]  # Remove end marker\n",
    "    secret_message = \"\".join(chr(int(binary_msg[i:i+8], 2)) for i in range(0, len(binary_msg), 8))\n",
    "    print(\"Extracted Message:\", secret_message)\n",
    "    return secret_message\n",
    "\n",
    "# Example Usage\n",
    "extract_message(\"images/stego_image.png\")"
   ]
  }
 ],
 "metadata": {
  "kernelspec": {
   "display_name": "Python 3",
   "language": "python",
   "name": "python3"
  },
  "language_info": {
   "codemirror_mode": {
    "name": "ipython",
    "version": 3
   },
   "file_extension": ".py",
   "mimetype": "text/x-python",
   "name": "python",
   "nbconvert_exporter": "python",
   "pygments_lexer": "ipython3",
   "version": "3.12.3"
  }
 },
 "nbformat": 4,
 "nbformat_minor": 2
}
