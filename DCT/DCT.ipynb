{
 "cells": [
  {
   "cell_type": "code",
   "execution_count": null,
   "metadata": {},
   "outputs": [
    {
     "data": {
      "text/plain": [
       "True"
      ]
     },
     "execution_count": 14,
     "metadata": {},
     "output_type": "execute_result"
    }
   ],
   "source": [
    "import cv2\n",
    "import numpy as np\n",
    "\n",
    "def encode_dct(img, text, channel=0, intensity=20):\n",
    "    block_size = 8\n",
    "    height, width = img.shape[:2]\n",
    "    grid_width = width // block_size\n",
    "    grid_height = height // block_size\n",
    "\n",
    "    text_bytes = text.encode('utf-8')\n",
    "    length = len(text_bytes)\n",
    "    bit_stream = [int(b) for b in format(length, '032b')]  \n",
    "    for byte in text_bytes:\n",
    "        bit_stream += [int(b) for b in format(byte, '08b')]\n",
    "\n",
    "    max_bits = (grid_width - 1) * (grid_height - 1)\n",
    "    if len(bit_stream) > max_bits:\n",
    "        raise ValueError(\"Message too large for image.\")\n",
    "\n",
    "    img = img.astype(np.float32)\n",
    "    planes = cv2.split(img)\n",
    "\n",
    "    i = 0\n",
    "    for y in range(1, grid_height):\n",
    "        for x in range(1, grid_width):\n",
    "            if i >= len(bit_stream):\n",
    "                break\n",
    "\n",
    "            px = (x - 1) * block_size\n",
    "            py = (y - 1) * block_size\n",
    "            block = planes[channel][py:py+block_size, px:px+block_size]\n",
    "            dct_block = cv2.dct(block)\n",
    "\n",
    "            a, b = dct_block[4, 3], dct_block[3, 4]\n",
    "            bit = bit_stream[i]\n",
    "\n",
    "            if bit == 0 and a < b:\n",
    "                a, b = b, a\n",
    "            elif bit == 1 and a > b:\n",
    "                a, b = b, a\n",
    "\n",
    "            if abs(a - b) < intensity:\n",
    "                diff = (intensity - abs(a - b)) / 2\n",
    "                if bit == 0:\n",
    "                    a += diff\n",
    "                    b -= diff\n",
    "                else:\n",
    "                    a -= diff\n",
    "                    b += diff\n",
    "\n",
    "            dct_block[4, 3] = a\n",
    "            dct_block[3, 4] = b\n",
    "            planes[channel][py:py+block_size, px:px+block_size] = cv2.idct(dct_block)\n",
    "            i += 1\n",
    "\n",
    "    encoded = cv2.merge(planes)\n",
    "    return np.clip(encoded, 0, 255).astype(np.uint8)\n",
    "\n",
    "def decode_dct(img, channel=0):\n",
    "    block_size = 8\n",
    "    height, width = img.shape[:2]\n",
    "    grid_width = width // block_size\n",
    "    grid_height = height // block_size\n",
    "\n",
    "    img = img.astype(np.float32)\n",
    "    planes = cv2.split(img)\n",
    "\n",
    "    bits = []\n",
    "    for y in range(1, grid_height):\n",
    "        for x in range(1, grid_width):\n",
    "            px = (x - 1) * block_size\n",
    "            py = (y - 1) * block_size\n",
    "            block = planes[channel][py:py+block_size, px:px+block_size]\n",
    "            dct_block = cv2.dct(block)\n",
    "\n",
    "            a, b = dct_block[4, 3], dct_block[3, 4]\n",
    "            bits.append(1 if a < b else 0)\n",
    "\n",
    "    length_bits = bits[:32]\n",
    "    length = int(\"\".join(map(str, length_bits)), 2)\n",
    "    message_bits = bits[32:32+8*length]\n",
    "\n",
    "    chars = []\n",
    "    for i in range(0, len(message_bits), 8):\n",
    "        byte = message_bits[i:i+8]\n",
    "        chars.append(chr(int(\"\".join(map(str, byte)), 2)))\n",
    "\n",
    "    return ''.join(chars)\n",
    "\n",
    "\n",
    "\n",
    "\n",
    "img = cv2.imread('treeBW.png')\n",
    "\n",
    "# Encoding\n",
    "hidden = encode_dct(img, \"Hello from JKLU\")\n",
    "\n",
    "cv2.imwrite('hidden.png', hidden)\n"
   ]
  },
  {
   "cell_type": "code",
   "execution_count": null,
   "metadata": {},
   "outputs": [
    {
     "name": "stdout",
     "output_type": "stream",
     "text": [
      "Decoded message: Hello from JKLU\n"
     ]
    }
   ],
   "source": [
    "\n",
    "loaded_img = cv2.imread('hidden.png')\n",
    "\n",
    "# Decoding\n",
    "message = decode_dct(loaded_img)\n",
    "print(\"Decoded message:\", message)"
   ]
  }
 ],
 "metadata": {
  "kernelspec": {
   "display_name": "Python 3",
   "language": "python",
   "name": "python3"
  },
  "language_info": {
   "codemirror_mode": {
    "name": "ipython",
    "version": 3
   },
   "file_extension": ".py",
   "mimetype": "text/x-python",
   "name": "python",
   "nbconvert_exporter": "python",
   "pygments_lexer": "ipython3",
   "version": "3.12.3"
  }
 },
 "nbformat": 4,
 "nbformat_minor": 2
}
